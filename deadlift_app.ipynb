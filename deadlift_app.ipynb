{
 "cells": [
  {
   "cell_type": "code",
   "execution_count": 12,
   "id": "a947c623",
   "metadata": {
    "scrolled": true
   },
   "outputs": [
    {
     "name": "stdout",
     "output_type": "stream",
     "text": [
      "Defaulting to user installation because normal site-packages is not writeable\n",
      "Requirement already satisfied: customtkinter in c:\\users\\abdul\\appdata\\roaming\\python\\python39\\site-packages (5.1.2)\n",
      "Requirement already satisfied: darkdetect in c:\\users\\abdul\\appdata\\roaming\\python\\python39\\site-packages (from customtkinter) (0.8.0)\n",
      "Defaulting to user installation because normal site-packages is not writeable\n",
      "Requirement already satisfied: opencv-python in c:\\users\\abdul\\appdata\\roaming\\python\\python39\\site-packages (4.7.0.72)\n",
      "Requirement already satisfied: matplotlib in c:\\programdata\\anaconda3\\lib\\site-packages (3.5.2)\n",
      "Requirement already satisfied: imageio in c:\\programdata\\anaconda3\\lib\\site-packages (2.19.3)\n",
      "Requirement already satisfied: gdown in c:\\users\\abdul\\appdata\\roaming\\python\\python39\\site-packages (4.6.4)\n",
      "Requirement already satisfied: tensorflow in c:\\users\\abdul\\appdata\\roaming\\python\\python39\\site-packages (2.11.0)\n"
     ]
    },
    {
     "name": "stderr",
     "output_type": "stream",
     "text": [
      "ERROR: Could not find a version that satisfies the requirement PIL (from versions: none)\n",
      "ERROR: No matching distribution found for PIL\n"
     ]
    }
   ],
   "source": [
    "!pip install customtkinter\n",
    "!pip install opencv-python matplotlib imageio gdown tensorflow PIL"
   ]
  },
  {
   "cell_type": "code",
   "execution_count": 2,
   "id": "4358bcc2",
   "metadata": {},
   "outputs": [],
   "source": [
    "# APP BELOW"
   ]
  },
  {
   "cell_type": "code",
   "execution_count": null,
   "id": "bad93e74",
   "metadata": {},
   "outputs": [],
   "source": [
    "import tkinter as tk \n",
    "import customtkinter as ck \n",
    "\n",
    "import pandas as pd \n",
    "import numpy as np \n",
    "import pickle \n",
    "\n",
    "import mediapipe as mp\n",
    "import cv2\n",
    "\n",
    "from PIL import Image, ImageTk \n",
    "\n",
    "from landmarks import landmarks\n",
    "\n",
    "window = tk.Tk()\n",
    "window.geometry(\"480x700\")\n",
    "window.title(\"Swoleboi\") \n",
    "ck.set_appearance_mode(\"dark\")\n",
    "\n",
    "classLabel = ck.CTkLabel(window, height=40, width=120, font=(\"Arial\", 20), text_color=\"black\", padx=10)\n",
    "classLabel.place(x=10, y=1)\n",
    "classLabel.configure(text='STAGE') \n",
    "counterLabel = ck.CTkLabel(window, height=40, width=120, font=(\"Arial\", 20), text_color=\"black\", padx=10)\n",
    "counterLabel.place(x=160, y=1)\n",
    "counterLabel.configure(text='REPS') \n",
    "probLabel  = ck.CTkLabel(window, height=40, width=120, font=(\"Arial\", 20), text_color=\"black\", padx=10)\n",
    "probLabel.place(x=300, y=1)\n",
    "probLabel.configure(text='PROB') \n",
    "classBox = ck.CTkLabel(window, height=40, width=120, font=(\"Arial\", 20), text_color=\"white\", fg_color=\"blue\")\n",
    "classBox.place(x=10, y=41)\n",
    "classBox.configure(text='0') \n",
    "counterBox = ck.CTkLabel(window, height=40, width=120, font=(\"Arial\", 20), text_color=\"white\", fg_color=\"blue\")\n",
    "counterBox.place(x=160, y=41)\n",
    "counterBox.configure(text='0') \n",
    "probBox = ck.CTkLabel(window, height=40, width=120, font=(\"Arial\", 20), text_color=\"white\", fg_color=\"blue\")\n",
    "probBox.place(x=300, y=41)\n",
    "probBox.configure(text='0') \n",
    "\n",
    "\n",
    "def reset_counter(): \n",
    "    global counter\n",
    "    counter = 0 \n",
    "\n",
    "button = ck.CTkButton(window, text='RESET', command=reset_counter, height=40, width=120, font=(\"Arial\", 20), text_color=\"white\", fg_color=\"blue\")\n",
    "button.place(x=10, y=600)\n",
    "\n",
    "frame = tk.Frame(height=480, width=480)\n",
    "frame.place(x=10, y=90) \n",
    "lmain = tk.Label(frame) \n",
    "lmain.place(x=0, y=0) \n",
    "\n",
    "mp_drawing = mp.solutions.drawing_utils\n",
    "mp_pose = mp.solutions.pose\n",
    "pose = mp_pose.Pose(min_tracking_confidence=0.5, min_detection_confidence=0.5) \n",
    "\n",
    "with open('deadlift.pkl', 'rb') as f: \n",
    "    model = pickle.load(f) \n",
    "\n",
    "cap = cv2.VideoCapture(3)\n",
    "current_stage = ''\n",
    "counter = 0 \n",
    "bodylang_prob = np.array([0,0]) \n",
    "bodylang_class = '' \n",
    "\n",
    "def detect(): \n",
    "    global current_stage\n",
    "    global counter\n",
    "    global bodylang_class\n",
    "    global bodylang_prob \n",
    "\n",
    "    ret, frame = cap.read()\n",
    "    image = cv2.cvtColor(frame, cv2.COLOR_BGR2RGB) \n",
    "    results = pose.process(image)\n",
    "    mp_drawing.draw_landmarks(image, results.pose_landmarks, mp_pose.POSE_CONNECTIONS, \n",
    "        mp_drawing.DrawingSpec(color=(106,13,173), thickness=4, circle_radius = 5), \n",
    "        mp_drawing.DrawingSpec(color=(255,102,0), thickness=5, circle_radius = 10)) \n",
    "\n",
    "    try: \n",
    "        row = np.array([[res.x, res.y, res.z, res.visibility] for res in results.pose_landmarks.landmark]).flatten().tolist()\n",
    "        X = pd.DataFrame([row], columns = landmarks) \n",
    "        bodylang_prob = model.predict_proba(X)[0]\n",
    "        bodylang_class = model.predict(X)[0] \n",
    "\n",
    "        if bodylang_class ==\"down\" and bodylang_prob[bodylang_prob.argmax()] > 0.7: \n",
    "            current_stage = \"down\" \n",
    "        elif current_stage == \"down\" and bodylang_class == \"up\" and bodylang_prob[bodylang_prob.argmax()] > 0.7:\n",
    "            current_stage = \"up\" \n",
    "            counter += 1 \n",
    "\n",
    "    except Exception as e: \n",
    "        print(e) \n",
    "\n",
    "    img = image[:, :460, :] \n",
    "    imgarr = Image.fromarray(img) \n",
    "    imgtk = ImageTk.PhotoImage(imgarr) \n",
    "    lmain.imgtk = imgtk \n",
    "    lmain.configure(image=imgtk)\n",
    "    lmain.after(10, detect)  \n",
    "\n",
    "    counterBox.configure(text=counter) \n",
    "    probBox.configure(text=bodylang_prob[bodylang_prob.argmax()]) \n",
    "    classBox.configure(text=current_stage) \n",
    "\n",
    "detect() \n",
    "window.mainloop()"
   ]
  },
  {
   "cell_type": "code",
   "execution_count": 9,
   "id": "a2a21197",
   "metadata": {},
   "outputs": [
    {
     "name": "stdout",
     "output_type": "stream",
     "text": [
      "Defaulting to user installation because normal site-packages is not writeable\n",
      "Requirement already satisfied: opencv-python in c:\\users\\abdul\\appdata\\roaming\\python\\python39\\site-packages (4.7.0.72)\n",
      "Requirement already satisfied: numpy>=1.19.3 in c:\\programdata\\anaconda3\\lib\\site-packages (from opencv-python) (1.21.5)\n"
     ]
    }
   ],
   "source": [
    "!pip install opencv-python\n"
   ]
  },
  {
   "cell_type": "code",
   "execution_count": null,
   "id": "d3a359e8",
   "metadata": {},
   "outputs": [],
   "source": [
    "\n",
    "# import the opencv library\n",
    "import cv2\n",
    "  \n",
    "  \n",
    "# define a video capture object\n",
    "vid = cv2.VideoCapture(0)\n",
    "  \n",
    "while(True):\n",
    "      \n",
    "    # Capture the video frame\n",
    "    # by frame\n",
    "    ret, frame = vid.read()\n",
    "  \n",
    "    # Display the resulting frame\n",
    "    cv2.imshow('frame', frame)\n",
    "      \n",
    "    # the 'q' button is set as the\n",
    "    # quitting button you may use any\n",
    "    # desired button of your choice\n",
    "    if cv2.waitKey(1) & 0xFF == ord('q'):\n",
    "        break\n",
    "  \n",
    "# After the loop release the cap object\n",
    "vid.release()\n",
    "# Destroy all the windows\n",
    "cv2.destroyAllWindows()"
   ]
  },
  {
   "cell_type": "code",
   "execution_count": null,
   "id": "166e202c",
   "metadata": {},
   "outputs": [],
   "source": []
  }
 ],
 "metadata": {
  "kernelspec": {
   "display_name": "Python 3 (ipykernel)",
   "language": "python",
   "name": "python3"
  },
  "language_info": {
   "codemirror_mode": {
    "name": "ipython",
    "version": 3
   },
   "file_extension": ".py",
   "mimetype": "text/x-python",
   "name": "python",
   "nbconvert_exporter": "python",
   "pygments_lexer": "ipython3",
   "version": "3.9.13"
  }
 },
 "nbformat": 4,
 "nbformat_minor": 5
}
